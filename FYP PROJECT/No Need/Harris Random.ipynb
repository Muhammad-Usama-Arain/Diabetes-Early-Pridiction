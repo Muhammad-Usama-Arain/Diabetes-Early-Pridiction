{
 "cells": [
  {
   "cell_type": "code",
   "execution_count": 60,
   "metadata": {},
   "outputs": [],
   "source": [
    "import pandas as pd\n",
    "import seaborn as sns\n",
    "from matplotlib import pyplot as plt"
   ]
  },
  {
   "cell_type": "code",
   "execution_count": 61,
   "metadata": {
    "scrolled": true
   },
   "outputs": [
    {
     "data": {
      "text/html": [
       "<div>\n",
       "<style scoped>\n",
       "    .dataframe tbody tr th:only-of-type {\n",
       "        vertical-align: middle;\n",
       "    }\n",
       "\n",
       "    .dataframe tbody tr th {\n",
       "        vertical-align: top;\n",
       "    }\n",
       "\n",
       "    .dataframe thead th {\n",
       "        text-align: right;\n",
       "    }\n",
       "</style>\n",
       "<table border=\"1\" class=\"dataframe\">\n",
       "  <thead>\n",
       "    <tr style=\"text-align: right;\">\n",
       "      <th></th>\n",
       "      <th>gender</th>\n",
       "      <th>age</th>\n",
       "      <th>weight</th>\n",
       "      <th>height</th>\n",
       "      <th>family-history</th>\n",
       "      <th>lifestyle-smoke</th>\n",
       "      <th>lifestyle-physical</th>\n",
       "      <th>blood-pressure</th>\n",
       "      <th>glucose-level</th>\n",
       "      <th>status</th>\n",
       "    </tr>\n",
       "  </thead>\n",
       "  <tbody>\n",
       "    <tr>\n",
       "      <th>0</th>\n",
       "      <td>1</td>\n",
       "      <td>20</td>\n",
       "      <td>49</td>\n",
       "      <td>168</td>\n",
       "      <td>0</td>\n",
       "      <td>1</td>\n",
       "      <td>2</td>\n",
       "      <td>2</td>\n",
       "      <td>289</td>\n",
       "      <td>1</td>\n",
       "    </tr>\n",
       "    <tr>\n",
       "      <th>1</th>\n",
       "      <td>0</td>\n",
       "      <td>34</td>\n",
       "      <td>66</td>\n",
       "      <td>165</td>\n",
       "      <td>1</td>\n",
       "      <td>0</td>\n",
       "      <td>1</td>\n",
       "      <td>2</td>\n",
       "      <td>159</td>\n",
       "      <td>0</td>\n",
       "    </tr>\n",
       "    <tr>\n",
       "      <th>2</th>\n",
       "      <td>1</td>\n",
       "      <td>22</td>\n",
       "      <td>52</td>\n",
       "      <td>165</td>\n",
       "      <td>0</td>\n",
       "      <td>0</td>\n",
       "      <td>2</td>\n",
       "      <td>2</td>\n",
       "      <td>157</td>\n",
       "      <td>0</td>\n",
       "    </tr>\n",
       "    <tr>\n",
       "      <th>3</th>\n",
       "      <td>1</td>\n",
       "      <td>21</td>\n",
       "      <td>55</td>\n",
       "      <td>168</td>\n",
       "      <td>0</td>\n",
       "      <td>0</td>\n",
       "      <td>2</td>\n",
       "      <td>2</td>\n",
       "      <td>159</td>\n",
       "      <td>0</td>\n",
       "    </tr>\n",
       "    <tr>\n",
       "      <th>4</th>\n",
       "      <td>1</td>\n",
       "      <td>22</td>\n",
       "      <td>48</td>\n",
       "      <td>164</td>\n",
       "      <td>1</td>\n",
       "      <td>1</td>\n",
       "      <td>2</td>\n",
       "      <td>2</td>\n",
       "      <td>153</td>\n",
       "      <td>1</td>\n",
       "    </tr>\n",
       "  </tbody>\n",
       "</table>\n",
       "</div>"
      ],
      "text/plain": [
       "   gender  age  weight  height  family-history  lifestyle-smoke  \\\n",
       "0       1   20      49     168               0                1   \n",
       "1       0   34      66     165               1                0   \n",
       "2       1   22      52     165               0                0   \n",
       "3       1   21      55     168               0                0   \n",
       "4       1   22      48     164               1                1   \n",
       "\n",
       "   lifestyle-physical  blood-pressure  glucose-level  status  \n",
       "0                   2               2            289       1  \n",
       "1                   1               2            159       0  \n",
       "2                   2               2            157       0  \n",
       "3                   2               2            159       0  \n",
       "4                   2               2            153       1  "
      ]
     },
     "execution_count": 61,
     "metadata": {},
     "output_type": "execute_result"
    }
   ],
   "source": [
    "fyp = pd.read_csv('Datasets/fyp-dataset.csv')\n",
    "fyp.head()"
   ]
  },
  {
   "cell_type": "markdown",
   "metadata": {},
   "source": [
    "## Hight Distributions"
   ]
  },
  {
   "cell_type": "code",
   "execution_count": 62,
   "metadata": {},
   "outputs": [
    {
     "data": {
      "text/plain": [
       "Text(0, 0.5, 'Frequency')"
      ]
     },
     "execution_count": 62,
     "metadata": {},
     "output_type": "execute_result"
    },
    {
     "data": {
      "image/png": "[encoded data removed]",
      "text/plain": [
       "<Figure size 576x360 with 1 Axes>"
      ]
     },
     "metadata": {
      "needs_background": "light"
     },
     "output_type": "display_data"
    }
   ],
   "source": [
    "plt.figure(figsize=(8,5))\n",
    "fyp[\"height\"].plot(kind='hist')\n",
    "plt.xlabel('Height in cm')\n",
    "plt.ylabel('Frequency')"
   ]
  },
  {
   "cell_type": "markdown",
   "metadata": {},
   "source": [
    "## Weight Distributions"
   ]
  },
  {
   "cell_type": "code",
   "execution_count": 63,
   "metadata": {},
   "outputs": [
    {
     "data": {
      "text/plain": [
       "Text(0, 0.5, 'Frequency')"
      ]
     },
     "execution_count": 63,
     "metadata": {},
     "output_type": "execute_result"
    },
    {
     "data": {
      "image/png": "[encoded data removed]",
      "text/plain": [
       "<Figure size 576x360 with 1 Axes>"
      ]
     },
     "metadata": {
      "needs_background": "light"
     },
     "output_type": "display_data"
    }
   ],
   "source": [
    "plt.figure(figsize=(8,5))\n",
    "sns.distplot(fyp['weight'],bins=30,kde=False)\n",
    "plt.xlabel('Weight in Kgs')\n",
    "plt.ylabel('Frequency')"
   ]
  },
  {
   "cell_type": "markdown",
   "metadata": {},
   "source": [
    "## Age Distributions\n",
    "\n"
   ]
  },
  {
   "cell_type": "code",
   "execution_count": 64,
   "metadata": {},
   "outputs": [
    {
     "data": {
      "text/plain": [
       "Text(0, 0.5, 'Frequency')"
      ]
     },
     "execution_count": 64,
     "metadata": {},
     "output_type": "execute_result"
    },
    {
     "data": {
      "image/png": "[encoded data removed]",
      "text/plain": [
       "<Figure size 576x360 with 1 Axes>"
      ]
     },
     "metadata": {
      "needs_background": "light"
     },
     "output_type": "display_data"
    }
   ],
   "source": [
    "plt.figure(figsize=(8,5))\n",
    "sns.distplot(fyp['age'],bins=30,kde=False)\n",
    "plt.xlabel('Age years')\n",
    "plt.ylabel('Frequency')\n",
    "\n",
    "# most of the responders are from age interval 20-25"
   ]
  },
  {
   "cell_type": "markdown",
   "metadata": {
    "scrolled": true
   },
   "source": [
    "## Gender"
   ]
  },
  {
   "cell_type": "code",
   "execution_count": 65,
   "metadata": {
    "scrolled": false
   },
   "outputs": [
    {
     "data": {
      "text/plain": [
       "Text(0.5, 0, ' {Female: 0,  Male: 1}')"
      ]
     },
     "execution_count": 65,
     "metadata": {},
     "output_type": "execute_result"
    },
    {
     "data": {
      "image/png": "[encoded data removed]",
      "text/plain": [
       "<Figure size 576x360 with 1 Axes>"
      ]
     },
     "metadata": {
      "needs_background": "light"
     },
     "output_type": "display_data"
    }
   ],
   "source": [
    "plt.figure(figsize=(8,5))\n",
    "sns.countplot('gender',data=fyp,dodge=True,palette=\"Set1\")\n",
    "plt.xlabel(\" {Female: 0,  Male: 1}\")"
   ]
  },
  {
   "cell_type": "code",
   "execution_count": 66,
   "metadata": {
    "scrolled": true
   },
   "outputs": [
    {
     "data": {
      "text/plain": [
       "Text(0.5, 0, ' {No-Diabetic Member: 0,  Diabetic Member: 1}')"
      ]
     },
     "execution_count": 66,
     "metadata": {},
     "output_type": "execute_result"
    },
    {
     "data": {
      "image/png": "[encoded data removed]",
      "text/plain": [
       "<Figure size 576x360 with 1 Axes>"
      ]
     },
     "metadata": {
      "needs_background": "light"
     },
     "output_type": "display_data"
    }
   ],
   "source": [
    "# Do male or female has highest number of infected members with diabetes\n",
    "plt.figure(figsize=(8,5))\n",
    "ax=sns.countplot(x=fyp['family-history'],hue=fyp['gender'])\n",
    "ax.legend(labels=[\"Female\",\"Male\"])\n",
    "plt.xlabel(\" {No-Diabetic Member: 0,  Diabetic Member: 1}\")"
   ]
  },
  {
   "cell_type": "code",
   "execution_count": 67,
   "metadata": {
    "scrolled": true
   },
   "outputs": [
    {
     "data": {
      "text/plain": [
       "<matplotlib.legend.Legend at 0x108beaa8>"
      ]
     },
     "execution_count": 67,
     "metadata": {},
     "output_type": "execute_result"
    },
    {
     "data": {
      "image/png": "[encoded data removed]",
      "text/plain": [
       "<Figure size 576x360 with 1 Axes>"
      ]
     },
     "metadata": {
      "needs_background": "light"
     },
     "output_type": "display_data"
    }
   ],
   "source": [
    "# Do male or female has highest number of smokers\n",
    "plt.figure(figsize=(8,5))\n",
    "ax = sns.countplot(x=fyp['gender'],hue=fyp['lifestyle-smoke'])\n",
    "\n",
    "plt.xlabel(\" {Female: 0,  Male: 1}\")\n",
    "ax.legend(labels=[\"Not Smoker\",\"Smoker\"])"
   ]
  },
  {
   "cell_type": "code",
   "execution_count": 68,
   "metadata": {
    "scrolled": true
   },
   "outputs": [
    {
     "data": {
      "text/plain": [
       "Text(0.5, 0, ' {Non-Smoker: 0,  Smoker: 1}')"
      ]
     },
     "execution_count": 68,
     "metadata": {},
     "output_type": "execute_result"
    },
    {
     "data": {
      "image/png": "[encoded data removed]",
      "text/plain": [
       "<Figure size 576x360 with 1 Axes>"
      ]
     },
     "metadata": {
      "needs_background": "light"
     },
     "output_type": "display_data"
    }
   ],
   "source": [
    "# Smokers Ration\n",
    "plt.figure(figsize=(8,5))\n",
    "sns.countplot(fyp['lifestyle-smoke'])\n",
    "plt.xlabel(\" {Non-Smoker: 0,  Smoker: 1}\")"
   ]
  },
  {
   "cell_type": "markdown",
   "metadata": {},
   "source": [
    "## Diabetic"
   ]
  },
  {
   "cell_type": "code",
   "execution_count": 69,
   "metadata": {},
   "outputs": [
    {
     "data": {
      "text/plain": [
       "<matplotlib.legend.Legend at 0x114c6c88>"
      ]
     },
     "execution_count": 69,
     "metadata": {},
     "output_type": "execute_result"
    },
    {
     "data": {
      "image/png": "[encoded data removed]",
      "text/plain": [
       "<Figure size 576x360 with 1 Axes>"
      ]
     },
     "metadata": {
      "needs_background": "light"
     },
     "output_type": "display_data"
    }
   ],
   "source": [
    "# Diabetic patient genderwise\n",
    "plt.figure(figsize=(8,5))\n",
    "ax=sns.countplot(x=fyp['status'],hue=fyp['gender'])\n",
    "plt.xlabel(\" {Non-diabetic: 0,  Diabetic: 1}\")\n",
    "ax.legend(labels=[\"Female\",\"Male\"])\n"
   ]
  },
  {
   "cell_type": "code",
   "execution_count": 70,
   "metadata": {
    "scrolled": true
   },
   "outputs": [
    {
     "data": {
      "text/plain": [
       "<matplotlib.legend.Legend at 0x1171f6b8>"
      ]
     },
     "execution_count": 70,
     "metadata": {},
     "output_type": "execute_result"
    },
    {
     "data": {
      "image/png": "[encoded data removed]",
      "text/plain": [
       "<Figure size 576x360 with 1 Axes>"
      ]
     },
     "metadata": {
      "needs_background": "light"
     },
     "output_type": "display_data"
    }
   ],
   "source": [
    "# Those who acknowledge as diabetic, do they have any diabetic member in family\n",
    "plt.figure(figsize=(8,5))\n",
    "ax=sns.countplot(x=fyp['status'],hue=fyp['family-history'])\n",
    "plt.xlabel(\" {Non-diabetic: 0,  Diabetic: 1}\")\n",
    "ax.legend(labels=[\"Non-Diabetic Member\",\" Diabetic Member\"])"
   ]
  },
  {
   "cell_type": "code",
   "execution_count": 71,
   "metadata": {
    "scrolled": true
   },
   "outputs": [
    {
     "data": {
      "text/plain": [
       "<matplotlib.legend.Legend at 0x11744f28>"
      ]
     },
     "execution_count": 71,
     "metadata": {},
     "output_type": "execute_result"
    },
    {
     "data": {
      "image/png": "[encoded data removed]",
      "text/plain": [
       "<Figure size 576x360 with 1 Axes>"
      ]
     },
     "metadata": {
      "needs_background": "light"
     },
     "output_type": "display_data"
    }
   ],
   "source": [
    "# Those who acknowledge as diabetic, are they also smokers in general or not\n",
    "\n",
    "plt.figure(figsize=(8,5))\n",
    "ax=sns.countplot(x=fyp['status'],hue=fyp['lifestyle-smoke'])\n",
    "plt.xlabel(\" {Non-diabetic: 0,  Diabetic: 1}\")\n",
    "ax.legend(labels=[\"Non-Smoker\",\" Smoker\"])"
   ]
  },
  {
   "cell_type": "code",
   "execution_count": 72,
   "metadata": {},
   "outputs": [
    {
     "data": {
      "text/plain": [
       "<matplotlib.legend.Legend at 0x11767730>"
      ]
     },
     "execution_count": 72,
     "metadata": {},
     "output_type": "execute_result"
    },
    {
     "data": {
      "image/png": "[encoded data removed]",
      "text/plain": [
       "<Figure size 576x360 with 1 Axes>"
      ]
     },
     "metadata": {
      "needs_background": "light"
     },
     "output_type": "display_data"
    }
   ],
   "source": [
    "# Do pyhsyically active candidates has less chances for developing diabetes\n",
    "plt.figure(figsize=(8,5))\n",
    "ax=sns.countplot(x=fyp['lifestyle-physical'],hue=fyp['status'])\n",
    "plt.xlabel(\" {Physically-inactive : 1,  Physically-moderate : 2, Physically-active : 3}\")\n",
    "ax.legend(labels=[\"Non-Diabetic\",\" Diabetic\"])\n"
   ]
  },
  {
   "cell_type": "code",
   "execution_count": 73,
   "metadata": {
    "scrolled": false
   },
   "outputs": [
    {
     "data": {
      "text/plain": [
       "<matplotlib.legend.Legend at 0x117b73a0>"
      ]
     },
     "execution_count": 73,
     "metadata": {},
     "output_type": "execute_result"
    },
    {
     "data": {
      "image/png": "[encoded data removed]",
      "text/plain": [
       "<Figure size 576x360 with 1 Axes>"
      ]
     },
     "metadata": {
      "needs_background": "light"
     },
     "output_type": "display_data"
    }
   ],
   "source": [
    "# People with high blood pressure has more risk for developing diabetes or not!\n",
    "\n",
    "plt.figure(figsize=(8,5))\n",
    "ax=sns.countplot(x=fyp['blood-pressure'],hue=fyp['status'])\n",
    "plt.xlabel(\" {Physically-inactive : 1,  Physically-moderate : 2, Physically-active : 3}\")\n",
    "ax.legend(labels=[\"Non-Diabetic\",\" Diabetic\"])\n"
   ]
  },
  {
   "cell_type": "code",
   "execution_count": 77,
   "metadata": {},
   "outputs": [],
   "source": [
    "fyp['blood-pressure'].replace({2:0,3:1},inplace=True)"
   ]
  },
  {
   "cell_type": "code",
   "execution_count": 78,
   "metadata": {
    "scrolled": true
   },
   "outputs": [
    {
     "data": {
      "text/html": [
       "<div>\n",
       "<style scoped>\n",
       "    .dataframe tbody tr th:only-of-type {\n",
       "        vertical-align: middle;\n",
       "    }\n",
       "\n",
       "    .dataframe tbody tr th {\n",
       "        vertical-align: top;\n",
       "    }\n",
       "\n",
       "    .dataframe thead th {\n",
       "        text-align: right;\n",
       "    }\n",
       "</style>\n",
       "<table border=\"1\" class=\"dataframe\">\n",
       "  <thead>\n",
       "    <tr style=\"text-align: right;\">\n",
       "      <th></th>\n",
       "      <th>gender</th>\n",
       "      <th>age</th>\n",
       "      <th>weight</th>\n",
       "      <th>height</th>\n",
       "      <th>family-history</th>\n",
       "      <th>lifestyle-smoke</th>\n",
       "      <th>lifestyle-physical</th>\n",
       "      <th>blood-pressure</th>\n",
       "      <th>glucose-level</th>\n",
       "      <th>status</th>\n",
       "    </tr>\n",
       "  </thead>\n",
       "  <tbody>\n",
       "    <tr>\n",
       "      <th>0</th>\n",
       "      <td>1</td>\n",
       "      <td>20</td>\n",
       "      <td>49</td>\n",
       "      <td>168</td>\n",
       "      <td>0</td>\n",
       "      <td>1</td>\n",
       "      <td>2</td>\n",
       "      <td>0</td>\n",
       "      <td>289</td>\n",
       "      <td>1</td>\n",
       "    </tr>\n",
       "    <tr>\n",
       "      <th>1</th>\n",
       "      <td>0</td>\n",
       "      <td>34</td>\n",
       "      <td>66</td>\n",
       "      <td>165</td>\n",
       "      <td>1</td>\n",
       "      <td>0</td>\n",
       "      <td>1</td>\n",
       "      <td>0</td>\n",
       "      <td>159</td>\n",
       "      <td>0</td>\n",
       "    </tr>\n",
       "    <tr>\n",
       "      <th>2</th>\n",
       "      <td>1</td>\n",
       "      <td>22</td>\n",
       "      <td>52</td>\n",
       "      <td>165</td>\n",
       "      <td>0</td>\n",
       "      <td>0</td>\n",
       "      <td>2</td>\n",
       "      <td>0</td>\n",
       "      <td>157</td>\n",
       "      <td>0</td>\n",
       "    </tr>\n",
       "  </tbody>\n",
       "</table>\n",
       "</div>"
      ],
      "text/plain": [
       "   gender  age  weight  height  family-history  lifestyle-smoke  \\\n",
       "0       1   20      49     168               0                1   \n",
       "1       0   34      66     165               1                0   \n",
       "2       1   22      52     165               0                0   \n",
       "\n",
       "   lifestyle-physical  blood-pressure  glucose-level  status  \n",
       "0                   2               0            289       1  \n",
       "1                   1               0            159       0  \n",
       "2                   2               0            157       0  "
      ]
     },
     "execution_count": 78,
     "metadata": {},
     "output_type": "execute_result"
    }
   ],
   "source": [
    "fyp.head(3)"
   ]
  },
  {
   "cell_type": "code",
   "execution_count": 91,
   "metadata": {},
   "outputs": [
    {
     "name": "stdout",
     "output_type": "stream",
     "text": [
      "There exists positive corr between glucose and status 0.635\n"
     ]
    }
   ],
   "source": [
    "# Role of glucose in defining person's diabetes status\n",
    "\n",
    "print(\"There exists positive corr between glucose and status\",round(fyp['glucose-level'].corr(fyp['status']),3))"
   ]
  },
  {
   "cell_type": "code",
   "execution_count": 113,
   "metadata": {},
   "outputs": [
    {
     "name": "stdout",
     "output_type": "stream",
     "text": [
      "Normal Interval\n",
      " 0    11\n",
      "1     1\n",
      "Name: status, dtype: int64\n",
      "\n",
      "Prediabetic Interval\n",
      " 0    174\n",
      "1     73\n",
      "Name: status, dtype: int64\n",
      "\n",
      "Diabetic Interval\n",
      " 1    162\n",
      "0      9\n",
      "Name: status, dtype: int64\n"
     ]
    }
   ],
   "source": [
    "# Random Glucose-level Categories\n",
    "# Normal < 140 mg/dl\n",
    "# Prediabetic 140-199 mg/dl\n",
    "# Diabetic > 200 mg/dl\n",
    "\n",
    "# REMEMBER: Random Glucose test is not sufficient to decide the status, once it reaches over 200 (Require other tests as well)\n",
    "\n",
    "print(\"Normal Interval\\n\",fyp[fyp['glucose-level']<=140]['status'].value_counts())\n",
    "print()\n",
    "print(\"Prediabetic Interval\\n\",fyp[(fyp['glucose-level']>140) & (fyp['glucose-level']<199)]['status'].value_counts())\n",
    "print()\n",
    "print(\"Diabetic Interval\\n\",fyp[fyp['glucose-level']>200]['status'].value_counts())\n",
    "\n"
   ]
  },
  {
   "cell_type": "code",
   "execution_count": 120,
   "metadata": {},
   "outputs": [],
   "source": [
    "fyp['Glucose-cat'] = pd.cut(fyp['glucose-level'],bins=[60,140,199,350],labels=['Non Diabetic','Prediabetic','Diabetic'])"
   ]
  },
  {
   "cell_type": "code",
   "execution_count": 125,
   "metadata": {
    "scrolled": true
   },
   "outputs": [
    {
     "data": {
      "text/plain": [
       "<matplotlib.legend.Legend at 0x4d147f0>"
      ]
     },
     "execution_count": 125,
     "metadata": {},
     "output_type": "execute_result"
    },
    {
     "data": {
      "image/png": "[encoded data removed]",
      "text/plain": [
       "<Figure size 576x360 with 1 Axes>"
      ]
     },
     "metadata": {
      "needs_background": "light"
     },
     "output_type": "display_data"
    }
   ],
   "source": [
    "# Persons glucose-category justify they are diabetic\n",
    "plt.figure(figsize=(8,5))\n",
    "ax=sns.countplot(fyp['Glucose-cat'],hue=fyp['status'])\n",
    "ax.legend(labels=[\"Non-Diabetic\",\" Diabetic\"])"
   ]
  },
  {
   "cell_type": "code",
   "execution_count": 10,
   "metadata": {},
   "outputs": [
    {
     "data": {
      "text/html": [
       "<div>\n",
       "<style scoped>\n",
       "    .dataframe tbody tr th:only-of-type {\n",
       "        vertical-align: middle;\n",
       "    }\n",
       "\n",
       "    .dataframe tbody tr th {\n",
       "        vertical-align: top;\n",
       "    }\n",
       "\n",
       "    .dataframe thead th {\n",
       "        text-align: right;\n",
       "    }\n",
       "</style>\n",
       "<table border=\"1\" class=\"dataframe\">\n",
       "  <thead>\n",
       "    <tr style=\"text-align: right;\">\n",
       "      <th></th>\n",
       "      <th>gender</th>\n",
       "      <th>age</th>\n",
       "      <th>weight</th>\n",
       "      <th>height</th>\n",
       "      <th>family-history</th>\n",
       "      <th>lifestyle-smoke</th>\n",
       "      <th>lifestyle-physical</th>\n",
       "      <th>blood-pressure</th>\n",
       "      <th>glucose-level</th>\n",
       "      <th>status</th>\n",
       "    </tr>\n",
       "  </thead>\n",
       "  <tbody>\n",
       "    <tr>\n",
       "      <th>gender</th>\n",
       "      <td>1.000000</td>\n",
       "      <td>-0.112872</td>\n",
       "      <td>-0.070146</td>\n",
       "      <td>-0.039783</td>\n",
       "      <td>-0.052970</td>\n",
       "      <td>0.177103</td>\n",
       "      <td>0.926453</td>\n",
       "      <td>-0.124197</td>\n",
       "      <td>-0.215269</td>\n",
       "      <td>-0.086781</td>\n",
       "    </tr>\n",
       "    <tr>\n",
       "      <th>age</th>\n",
       "      <td>-0.112872</td>\n",
       "      <td>1.000000</td>\n",
       "      <td>0.483891</td>\n",
       "      <td>0.097192</td>\n",
       "      <td>0.022951</td>\n",
       "      <td>0.004288</td>\n",
       "      <td>-0.235394</td>\n",
       "      <td>0.224256</td>\n",
       "      <td>0.197361</td>\n",
       "      <td>0.169725</td>\n",
       "    </tr>\n",
       "    <tr>\n",
       "      <th>weight</th>\n",
       "      <td>-0.070146</td>\n",
       "      <td>0.483891</td>\n",
       "      <td>1.000000</td>\n",
       "      <td>0.040289</td>\n",
       "      <td>0.019324</td>\n",
       "      <td>-0.102428</td>\n",
       "      <td>-0.139586</td>\n",
       "      <td>0.443751</td>\n",
       "      <td>0.111793</td>\n",
       "      <td>0.067428</td>\n",
       "    </tr>\n",
       "    <tr>\n",
       "      <th>height</th>\n",
       "      <td>-0.039783</td>\n",
       "      <td>0.097192</td>\n",
       "      <td>0.040289</td>\n",
       "      <td>1.000000</td>\n",
       "      <td>0.052280</td>\n",
       "      <td>-0.069685</td>\n",
       "      <td>-0.035378</td>\n",
       "      <td>0.037919</td>\n",
       "      <td>0.041130</td>\n",
       "      <td>0.033345</td>\n",
       "    </tr>\n",
       "    <tr>\n",
       "      <th>family-history</th>\n",
       "      <td>-0.052970</td>\n",
       "      <td>0.022951</td>\n",
       "      <td>0.019324</td>\n",
       "      <td>0.052280</td>\n",
       "      <td>1.000000</td>\n",
       "      <td>0.160899</td>\n",
       "      <td>-0.076801</td>\n",
       "      <td>0.033370</td>\n",
       "      <td>0.400313</td>\n",
       "      <td>0.370200</td>\n",
       "    </tr>\n",
       "    <tr>\n",
       "      <th>lifestyle-smoke</th>\n",
       "      <td>0.177103</td>\n",
       "      <td>0.004288</td>\n",
       "      <td>-0.102428</td>\n",
       "      <td>-0.069685</td>\n",
       "      <td>0.160899</td>\n",
       "      <td>1.000000</td>\n",
       "      <td>0.148548</td>\n",
       "      <td>-0.079488</td>\n",
       "      <td>0.114234</td>\n",
       "      <td>0.239026</td>\n",
       "    </tr>\n",
       "    <tr>\n",
       "      <th>lifestyle-physical</th>\n",
       "      <td>0.926453</td>\n",
       "      <td>-0.235394</td>\n",
       "      <td>-0.139586</td>\n",
       "      <td>-0.035378</td>\n",
       "      <td>-0.076801</td>\n",
       "      <td>0.148548</td>\n",
       "      <td>1.000000</td>\n",
       "      <td>-0.094275</td>\n",
       "      <td>-0.266227</td>\n",
       "      <td>-0.115096</td>\n",
       "    </tr>\n",
       "    <tr>\n",
       "      <th>blood-pressure</th>\n",
       "      <td>-0.124197</td>\n",
       "      <td>0.224256</td>\n",
       "      <td>0.443751</td>\n",
       "      <td>0.037919</td>\n",
       "      <td>0.033370</td>\n",
       "      <td>-0.079488</td>\n",
       "      <td>-0.094275</td>\n",
       "      <td>1.000000</td>\n",
       "      <td>0.068862</td>\n",
       "      <td>0.048748</td>\n",
       "    </tr>\n",
       "    <tr>\n",
       "      <th>glucose-level</th>\n",
       "      <td>-0.215269</td>\n",
       "      <td>0.197361</td>\n",
       "      <td>0.111793</td>\n",
       "      <td>0.041130</td>\n",
       "      <td>0.400313</td>\n",
       "      <td>0.114234</td>\n",
       "      <td>-0.266227</td>\n",
       "      <td>0.068862</td>\n",
       "      <td>1.000000</td>\n",
       "      <td>0.634900</td>\n",
       "    </tr>\n",
       "    <tr>\n",
       "      <th>status</th>\n",
       "      <td>-0.086781</td>\n",
       "      <td>0.169725</td>\n",
       "      <td>0.067428</td>\n",
       "      <td>0.033345</td>\n",
       "      <td>0.370200</td>\n",
       "      <td>0.239026</td>\n",
       "      <td>-0.115096</td>\n",
       "      <td>0.048748</td>\n",
       "      <td>0.634900</td>\n",
       "      <td>1.000000</td>\n",
       "    </tr>\n",
       "  </tbody>\n",
       "</table>\n",
       "</div>"
      ],
      "text/plain": [
       "                      gender       age    weight    height  family-history  \\\n",
       "gender              1.000000 -0.112872 -0.070146 -0.039783       -0.052970   \n",
       "age                -0.112872  1.000000  0.483891  0.097192        0.022951   \n",
       "weight             -0.070146  0.483891  1.000000  0.040289        0.019324   \n",
       "height             -0.039783  0.097192  0.040289  1.000000        0.052280   \n",
       "family-history     -0.052970  0.022951  0.019324  0.052280        1.000000   \n",
       "lifestyle-smoke     0.177103  0.004288 -0.102428 -0.069685        0.160899   \n",
       "lifestyle-physical  0.926453 -0.235394 -0.139586 -0.035378       -0.076801   \n",
       "blood-pressure     -0.124197  0.224256  0.443751  0.037919        0.033370   \n",
       "glucose-level      -0.215269  0.197361  0.111793  0.041130        0.400313   \n",
       "status             -0.086781  0.169725  0.067428  0.033345        0.370200   \n",
       "\n",
       "                    lifestyle-smoke  lifestyle-physical  blood-pressure  \\\n",
       "gender                     0.177103            0.926453       -0.124197   \n",
       "age                        0.004288           -0.235394        0.224256   \n",
       "weight                    -0.102428           -0.139586        0.443751   \n",
       "height                    -0.069685           -0.035378        0.037919   \n",
       "family-history             0.160899           -0.076801        0.033370   \n",
       "lifestyle-smoke            1.000000            0.148548       -0.079488   \n",
       "lifestyle-physical         0.148548            1.000000       -0.094275   \n",
       "blood-pressure            -0.079488           -0.094275        1.000000   \n",
       "glucose-level              0.114234           -0.266227        0.068862   \n",
       "status                     0.239026           -0.115096        0.048748   \n",
       "\n",
       "                    glucose-level    status  \n",
       "gender                  -0.215269 -0.086781  \n",
       "age                      0.197361  0.169725  \n",
       "weight                   0.111793  0.067428  \n",
       "height                   0.041130  0.033345  \n",
       "family-history           0.400313  0.370200  \n",
       "lifestyle-smoke          0.114234  0.239026  \n",
       "lifestyle-physical      -0.266227 -0.115096  \n",
       "blood-pressure           0.068862  0.048748  \n",
       "glucose-level            1.000000  0.634900  \n",
       "status                   0.634900  1.000000  "
      ]
     },
     "execution_count": 10,
     "metadata": {},
     "output_type": "execute_result"
    }
   ],
   "source": [
    "fyp.corr()"
   ]
  },
  {
   "cell_type": "code",
   "execution_count": 93,
   "metadata": {},
   "outputs": [
    {
     "data": {
      "text/plain": [
       "<matplotlib.axes._subplots.AxesSubplot at 0x1323adc0>"
      ]
     },
     "execution_count": 93,
     "metadata": {},
     "output_type": "execute_result"
    },
    {
     "data": {
      "image/png": "[encoded data removed]",
      "text/plain": [
       "<Figure size 576x360 with 2 Axes>"
      ]
     },
     "metadata": {
      "needs_background": "light"
     },
     "output_type": "display_data"
    }
   ],
   "source": [
    "plt.figure(figsize=(8,5))\n",
    "sns.heatmap(fyp.corr())"
   ]
  },
  {
   "cell_type": "code",
   "execution_count": null,
   "metadata": {},
   "outputs": [],
   "source": []
  }
 ],
 "metadata": {
  "kernelspec": {
   "display_name": "Python 3",
   "language": "python",
   "name": "python3"
  },
  "language_info": {
   "codemirror_mode": {
    "name": "ipython",
    "version": 3
   },
   "file_extension": ".py",
   "mimetype": "text/x-python",
   "name": "python",
   "nbconvert_exporter": "python",
   "pygments_lexer": "ipython3",
   "version": "3.8.2"
  }
 },
 "nbformat": 4,
 "nbformat_minor": 4
}
