{
 "cells": [
  {
   "cell_type": "code",
   "execution_count": 1,
   "metadata": {},
   "outputs": [],
   "source": [
    "import pandas as pd, numpy as np\n",
    "import random\n",
    "# from bs4 import BeautifulSoup\n",
    "# from faker import Faker\n",
    "import seaborn as sns\n",
    "import math\n",
    "from matplotlib import pyplot as plt\n",
    "#initialize Faker\n",
    "# fake=Faker()"
   ]
  },
  {
   "cell_type": "code",
   "execution_count": 2,
   "metadata": {},
   "outputs": [],
   "source": [
    "age = []\n",
    "gender = []\n",
    "height = []\n",
    "glucose_level = []\n",
    "diabetic = []\n",
    "weight = []\n",
    "member = []\n",
    "\n",
    "n_names=2000\n",
    "for n in range(n_names):\n",
    "#  Age\n",
    "    age.append(np.random.choice(np.arange(22,80,3)))\n",
    "# Gender    \n",
    "    gender=np.random.choice([0,1],n_names, p=[.55,.45])\n",
    "# Hight in cm    \n",
    "    height_val = [147,150,152,155,157,160,163,165,168,170,173,175,178,180,183,185,188,191,193]\n",
    "    height.append(np.random.choice(height_val))\n",
    "#  Weight     \n",
    "    weight.append(np.random.choice(np.arange(40,105,5)))\n",
    "        \n",
    "#     physical_cat = ['High','Moderate','Low']\n",
    "    physical_cat = [2,1,0]\n",
    "    physical = np.random.choice(physical_cat,n_names,p=['.11','.49','.40'])\n",
    "    \n",
    "    life_style_smoker =[0,1]\n",
    "    life_style = np.random.choice(life_style_smoker,n_names,p=['.88','.12'])\n",
    "    \n",
    "#     member_diabetic = ['Father','Mother','Sister','Brother','None','Mother;Father','Father;Mother;Sister','Mother;Sister',\n",
    "#                       'Mother;Brother','Father;Sister','Father;Brother','Father;Mother;Brother','Father;Mother;Sister;Brother']\n",
    "#     member_diabetic = np.random.choice(member_diabetic,n_names,p=['.30','.15','.03','.04','.38','.025','0.005','0.005',\n",
    "#                                                                         '.005','.01','0.02','0.01','0.02'])\n",
    "\n",
    "    \n",
    "    member = np.random.choice([0,1],n_names,p=[.60,.40])\n",
    "    \n",
    "#     blood_cat = ['Normal','Elivated','High','Very High','Extremely High']\n",
    "#     blood_cat_claim = np.random.choice(blood_cat,n_names,p=['.60','.11','.15','.10','.04'])\n",
    "    \n",
    "    blood_cat = [0,1,2,3,4]\n",
    "    blood_pressure = np.random.choice(blood_cat,n_names,p=['.60','.11','.15','.10','.04'])\n",
    "    \n",
    "    glucose_level.append(np.random.choice(np.arange(70,310,5)))\n",
    "    \n",
    "    \n",
    "    \n",
    "variables=[age,gender,height,weight,\n",
    "           physical,life_style,member,blood_pressure,glucose_level]\n",
    "\n",
    "df_diabetes=pd.DataFrame(variables).transpose()\n",
    "df_diabetes.columns=[\"Age\",\"Gender\",\"Height (centimeters)\",\"Weight (Kg)\",\"Physical Activities\",\n",
    "                     \"Life Style (Smoking)\",\"Member Diabetic\",\"Blood Pressure\",\"Glucose Level (Random mg/dl)\"]\n",
    "    \n",
    "    \n",
    "    \n"
   ]
  },
  {
   "cell_type": "code",
   "execution_count": 3,
   "metadata": {
    "scrolled": true
   },
   "outputs": [],
   "source": [
    "df_diabetes['BMI'] = df_diabetes.apply(lambda x: round(x[\"Weight (Kg)\"]/(math.pow(x['Height (centimeters)']/100,2)),1),axis=1)"
   ]
  },
  {
   "cell_type": "code",
   "execution_count": 4,
   "metadata": {},
   "outputs": [],
   "source": [
    "def convert_to_int(x):\n",
    "    return int(x)"
   ]
  },
  {
   "cell_type": "code",
   "execution_count": 5,
   "metadata": {},
   "outputs": [],
   "source": [
    "df_diabetes['Age'] = df_diabetes['Age'].apply(lambda x:convert_to_int(x))\n",
    "df_diabetes['Gender'] = df_diabetes['Gender'].apply(lambda x:convert_to_int(x))\n",
    "df_diabetes['Height (centimeters)'] = df_diabetes['Height (centimeters)'].apply(lambda x:convert_to_int(x))\n",
    "df_diabetes['Weight (Kg)'] = df_diabetes['Weight (Kg)'].apply(lambda x:convert_to_int(x))\n",
    "df_diabetes['Physical Activities'] = df_diabetes['Physical Activities'].apply(lambda x:convert_to_int(x))\n",
    "df_diabetes['Life Style (Smoking)'] = df_diabetes['Life Style (Smoking)'].apply(lambda x:convert_to_int(x))\n",
    "df_diabetes['Blood Pressure'] = df_diabetes['Blood Pressure'].apply(lambda x:convert_to_int(x))\n",
    "df_diabetes['Glucose Level (Random mg/dl)'] = df_diabetes['Glucose Level (Random mg/dl)'].apply(lambda x:convert_to_int(x))"
   ]
  },
  {
   "cell_type": "code",
   "execution_count": 6,
   "metadata": {},
   "outputs": [],
   "source": [
    "def diabetic_logic(x):\n",
    "    calculation = 0\n",
    "    alert = 0\n",
    "    info = 0\n",
    "    success = 0\n",
    "    if x['Glucose Level (Random mg/dl)'] < 140:\n",
    "        success = 1\n",
    "    elif x['Glucose Level (Random mg/dl)'] >=140 and  x['Glucose Level (Random mg/dl)'] < 199:\n",
    "        info = 1\n",
    "        calculation+=25\n",
    "    else:\n",
    "        alert = 1\n",
    "        calculation+=50\n",
    "        \n",
    "#     matching_meb = set(x['Member Diabetic'].split(\";\")) & set(['Mother','Father','Sister','Brother'])\n",
    "#     if len(matching_meb) > 0:\n",
    "#         for i in matching_meb:\n",
    "#             if i.lower() == \"Father\".lower():\n",
    "#                 calculation+=7.5\n",
    "#             if i.lower() == \"Mother\".lower():\n",
    "#                 calculation+=10\n",
    "#             if i.lower() == \"Brother\".lower():\n",
    "#                 calculation+=3.75\n",
    "#             if i.lower() == \"Sister\".lower():\n",
    "#                 calculation+=3.75\n",
    "\n",
    "    if x['Member Diabetic']:\n",
    "        calculation+=25\n",
    "        \n",
    "        \n",
    "        \n",
    "#     if x['Blood Pressure'].lower() == 'High'.lower():\n",
    "#         calculation+=3\n",
    "#     elif x['Blood Pressure'].lower() == 'Very High'.lower():\n",
    "#         calculation+=4\n",
    "#     elif x['Blood Pressure'].lower() == 'Extremely High'.lower():\n",
    "#         calculation+=5\n",
    "        \n",
    "    if x['Blood Pressure'] == 2:\n",
    "        calculation+=3\n",
    "    elif x['Blood Pressure'] == 3: \n",
    "        calculation+=4\n",
    "    elif x['Blood Pressure'] == 4:\n",
    "        calculation+=5    \n",
    "    \n",
    "\n",
    "    if x['BMI'] >=25.0 and x['BMI'] <=29.9:\n",
    "        # Overweight\n",
    "        calculation+=4\n",
    "    elif x['BMI'] >= 30.0:\n",
    "#         Obesity\n",
    "        calculation+=5 \n",
    "        \n",
    "    if x['Physical Activities'] == 0:\n",
    "        calculation+=5\n",
    "        \n",
    "    if x['Life Style (Smoking)'] == 1:\n",
    "        calculation+=5\n",
    "    \n",
    "    if x['Age'] > 40 and x['Age'] < 60:\n",
    "        calculation+=4\n",
    "    elif x['Age'] > 60:\n",
    "        calculation+=5\n",
    "        \n",
    "#     if alert == 1 :\n",
    "#         return 1, calculation\n",
    "#     elif alert == 0 :\n",
    "#         return 0, calculation\n",
    "\n",
    "#     if calculation >= 60 :\n",
    "#         return 1, calculation\n",
    "#     elif calculation < 60 :\n",
    "#         return 0, calculation\n",
    "\n",
    "\n",
    "    if success:\n",
    "        return -1, calculation\n",
    "    if info:\n",
    "        if calculation >= 38 and calculation <= 61:\n",
    "            return 0, calculation\n",
    "        if calculation < 38:\n",
    "            return -1, calculation\n",
    "        if calculation > 61:\n",
    "            return 1, calculation\n",
    "    if alert:\n",
    "        if calculation <= 61:\n",
    "            return 0, calculation\n",
    "        else:\n",
    "            return 1,calculation\n",
    "\n",
    "#     if alert:\n",
    "#         if calculation > 60:\n",
    "#             return 1, calculation\n",
    "#         else:\n",
    "#             return 0,calculation\n",
    "#     else:\n",
    "#         return 0, calculation\n",
    "    "
   ]
  },
  {
   "cell_type": "code",
   "execution_count": 7,
   "metadata": {},
   "outputs": [],
   "source": [
    "df_diabetes['Diagnose'],df_diabetes['Severity']= zip(*df_diabetes.apply(lambda x: diabetic_logic(x), axis=1))"
   ]
  },
  {
   "cell_type": "code",
   "execution_count": 8,
   "metadata": {},
   "outputs": [],
   "source": [
    "df_diabetes.drop(['Severity'],axis=1,inplace=True)"
   ]
  },
  {
   "cell_type": "code",
   "execution_count": 9,
   "metadata": {
    "scrolled": true
   },
   "outputs": [
    {
     "data": {
      "text/html": [
       "<div>\n",
       "<style scoped>\n",
       "    .dataframe tbody tr th:only-of-type {\n",
       "        vertical-align: middle;\n",
       "    }\n",
       "\n",
       "    .dataframe tbody tr th {\n",
       "        vertical-align: top;\n",
       "    }\n",
       "\n",
       "    .dataframe thead th {\n",
       "        text-align: right;\n",
       "    }\n",
       "</style>\n",
       "<table border=\"1\" class=\"dataframe\">\n",
       "  <thead>\n",
       "    <tr style=\"text-align: right;\">\n",
       "      <th></th>\n",
       "      <th>Age</th>\n",
       "      <th>Gender</th>\n",
       "      <th>Height (centimeters)</th>\n",
       "      <th>Weight (Kg)</th>\n",
       "      <th>Physical Activities</th>\n",
       "      <th>Life Style (Smoking)</th>\n",
       "      <th>Member Diabetic</th>\n",
       "      <th>Blood Pressure</th>\n",
       "      <th>Glucose Level (Random mg/dl)</th>\n",
       "      <th>BMI</th>\n",
       "      <th>Diagnose</th>\n",
       "    </tr>\n",
       "  </thead>\n",
       "  <tbody>\n",
       "    <tr>\n",
       "      <th>Age</th>\n",
       "      <td>100.000000</td>\n",
       "      <td>0.992828</td>\n",
       "      <td>-0.437140</td>\n",
       "      <td>1.457464</td>\n",
       "      <td>1.357956</td>\n",
       "      <td>0.860998</td>\n",
       "      <td>-4.711536</td>\n",
       "      <td>-1.580836</td>\n",
       "      <td>0.058050</td>\n",
       "      <td>1.332135</td>\n",
       "      <td>6.950042</td>\n",
       "    </tr>\n",
       "    <tr>\n",
       "      <th>Gender</th>\n",
       "      <td>0.992828</td>\n",
       "      <td>100.000000</td>\n",
       "      <td>-0.952959</td>\n",
       "      <td>1.234960</td>\n",
       "      <td>-1.040623</td>\n",
       "      <td>3.738963</td>\n",
       "      <td>3.360237</td>\n",
       "      <td>-0.685325</td>\n",
       "      <td>0.543361</td>\n",
       "      <td>1.159074</td>\n",
       "      <td>2.279488</td>\n",
       "    </tr>\n",
       "    <tr>\n",
       "      <th>Height (centimeters)</th>\n",
       "      <td>-0.437140</td>\n",
       "      <td>-0.952959</td>\n",
       "      <td>100.000000</td>\n",
       "      <td>0.365555</td>\n",
       "      <td>1.606964</td>\n",
       "      <td>1.839860</td>\n",
       "      <td>-0.084930</td>\n",
       "      <td>-0.926706</td>\n",
       "      <td>2.078139</td>\n",
       "      <td>-52.219456</td>\n",
       "      <td>-6.723295</td>\n",
       "    </tr>\n",
       "    <tr>\n",
       "      <th>Weight (Kg)</th>\n",
       "      <td>1.457464</td>\n",
       "      <td>1.234960</td>\n",
       "      <td>0.365555</td>\n",
       "      <td>100.000000</td>\n",
       "      <td>1.264262</td>\n",
       "      <td>-0.060676</td>\n",
       "      <td>1.982269</td>\n",
       "      <td>-2.130133</td>\n",
       "      <td>-3.483112</td>\n",
       "      <td>83.782904</td>\n",
       "      <td>3.437364</td>\n",
       "    </tr>\n",
       "    <tr>\n",
       "      <th>Physical Activities</th>\n",
       "      <td>1.357956</td>\n",
       "      <td>-1.040623</td>\n",
       "      <td>1.606964</td>\n",
       "      <td>1.264262</td>\n",
       "      <td>100.000000</td>\n",
       "      <td>3.435052</td>\n",
       "      <td>-2.871978</td>\n",
       "      <td>-0.322624</td>\n",
       "      <td>1.734397</td>\n",
       "      <td>-0.094727</td>\n",
       "      <td>-9.473200</td>\n",
       "    </tr>\n",
       "    <tr>\n",
       "      <th>Life Style (Smoking)</th>\n",
       "      <td>0.860998</td>\n",
       "      <td>3.738963</td>\n",
       "      <td>1.839860</td>\n",
       "      <td>-0.060676</td>\n",
       "      <td>3.435052</td>\n",
       "      <td>100.000000</td>\n",
       "      <td>-1.322628</td>\n",
       "      <td>-0.228141</td>\n",
       "      <td>-0.982685</td>\n",
       "      <td>-0.944489</td>\n",
       "      <td>5.534379</td>\n",
       "    </tr>\n",
       "    <tr>\n",
       "      <th>Member Diabetic</th>\n",
       "      <td>-4.711536</td>\n",
       "      <td>3.360237</td>\n",
       "      <td>-0.084930</td>\n",
       "      <td>1.982269</td>\n",
       "      <td>-2.871978</td>\n",
       "      <td>-1.322628</td>\n",
       "      <td>100.000000</td>\n",
       "      <td>0.060206</td>\n",
       "      <td>-3.552212</td>\n",
       "      <td>1.822553</td>\n",
       "      <td>31.162422</td>\n",
       "    </tr>\n",
       "    <tr>\n",
       "      <th>Blood Pressure</th>\n",
       "      <td>-1.580836</td>\n",
       "      <td>-0.685325</td>\n",
       "      <td>-0.926706</td>\n",
       "      <td>-2.130133</td>\n",
       "      <td>-0.322624</td>\n",
       "      <td>-0.228141</td>\n",
       "      <td>0.060206</td>\n",
       "      <td>100.000000</td>\n",
       "      <td>-2.045870</td>\n",
       "      <td>-1.268595</td>\n",
       "      <td>6.413218</td>\n",
       "    </tr>\n",
       "    <tr>\n",
       "      <th>Glucose Level (Random mg/dl)</th>\n",
       "      <td>0.058050</td>\n",
       "      <td>0.543361</td>\n",
       "      <td>2.078139</td>\n",
       "      <td>-3.483112</td>\n",
       "      <td>1.734397</td>\n",
       "      <td>-0.982685</td>\n",
       "      <td>-3.552212</td>\n",
       "      <td>-2.045870</td>\n",
       "      <td>100.000000</td>\n",
       "      <td>-4.253437</td>\n",
       "      <td>76.827947</td>\n",
       "    </tr>\n",
       "    <tr>\n",
       "      <th>BMI</th>\n",
       "      <td>1.332135</td>\n",
       "      <td>1.159074</td>\n",
       "      <td>-52.219456</td>\n",
       "      <td>83.782904</td>\n",
       "      <td>-0.094727</td>\n",
       "      <td>-0.944489</td>\n",
       "      <td>1.822553</td>\n",
       "      <td>-1.268595</td>\n",
       "      <td>-4.253437</td>\n",
       "      <td>100.000000</td>\n",
       "      <td>6.242851</td>\n",
       "    </tr>\n",
       "    <tr>\n",
       "      <th>Diagnose</th>\n",
       "      <td>6.950042</td>\n",
       "      <td>2.279488</td>\n",
       "      <td>-6.723295</td>\n",
       "      <td>3.437364</td>\n",
       "      <td>-9.473200</td>\n",
       "      <td>5.534379</td>\n",
       "      <td>31.162422</td>\n",
       "      <td>6.413218</td>\n",
       "      <td>76.827947</td>\n",
       "      <td>6.242851</td>\n",
       "      <td>100.000000</td>\n",
       "    </tr>\n",
       "  </tbody>\n",
       "</table>\n",
       "</div>"
      ],
      "text/plain": [
       "                                     Age      Gender  Height (centimeters)  \\\n",
       "Age                           100.000000    0.992828             -0.437140   \n",
       "Gender                          0.992828  100.000000             -0.952959   \n",
       "Height (centimeters)           -0.437140   -0.952959            100.000000   \n",
       "Weight (Kg)                     1.457464    1.234960              0.365555   \n",
       "Physical Activities             1.357956   -1.040623              1.606964   \n",
       "Life Style (Smoking)            0.860998    3.738963              1.839860   \n",
       "Member Diabetic                -4.711536    3.360237             -0.084930   \n",
       "Blood Pressure                 -1.580836   -0.685325             -0.926706   \n",
       "Glucose Level (Random mg/dl)    0.058050    0.543361              2.078139   \n",
       "BMI                             1.332135    1.159074            -52.219456   \n",
       "Diagnose                        6.950042    2.279488             -6.723295   \n",
       "\n",
       "                              Weight (Kg)  Physical Activities  \\\n",
       "Age                              1.457464             1.357956   \n",
       "Gender                           1.234960            -1.040623   \n",
       "Height (centimeters)             0.365555             1.606964   \n",
       "Weight (Kg)                    100.000000             1.264262   \n",
       "Physical Activities              1.264262           100.000000   \n",
       "Life Style (Smoking)            -0.060676             3.435052   \n",
       "Member Diabetic                  1.982269            -2.871978   \n",
       "Blood Pressure                  -2.130133            -0.322624   \n",
       "Glucose Level (Random mg/dl)    -3.483112             1.734397   \n",
       "BMI                             83.782904            -0.094727   \n",
       "Diagnose                         3.437364            -9.473200   \n",
       "\n",
       "                              Life Style (Smoking)  Member Diabetic  \\\n",
       "Age                                       0.860998        -4.711536   \n",
       "Gender                                    3.738963         3.360237   \n",
       "Height (centimeters)                      1.839860        -0.084930   \n",
       "Weight (Kg)                              -0.060676         1.982269   \n",
       "Physical Activities                       3.435052        -2.871978   \n",
       "Life Style (Smoking)                    100.000000        -1.322628   \n",
       "Member Diabetic                          -1.322628       100.000000   \n",
       "Blood Pressure                           -0.228141         0.060206   \n",
       "Glucose Level (Random mg/dl)             -0.982685        -3.552212   \n",
       "BMI                                      -0.944489         1.822553   \n",
       "Diagnose                                  5.534379        31.162422   \n",
       "\n",
       "                              Blood Pressure  Glucose Level (Random mg/dl)  \\\n",
       "Age                                -1.580836                      0.058050   \n",
       "Gender                             -0.685325                      0.543361   \n",
       "Height (centimeters)               -0.926706                      2.078139   \n",
       "Weight (Kg)                        -2.130133                     -3.483112   \n",
       "Physical Activities                -0.322624                      1.734397   \n",
       "Life Style (Smoking)               -0.228141                     -0.982685   \n",
       "Member Diabetic                     0.060206                     -3.552212   \n",
       "Blood Pressure                    100.000000                     -2.045870   \n",
       "Glucose Level (Random mg/dl)       -2.045870                    100.000000   \n",
       "BMI                                -1.268595                     -4.253437   \n",
       "Diagnose                            6.413218                     76.827947   \n",
       "\n",
       "                                     BMI    Diagnose  \n",
       "Age                             1.332135    6.950042  \n",
       "Gender                          1.159074    2.279488  \n",
       "Height (centimeters)          -52.219456   -6.723295  \n",
       "Weight (Kg)                    83.782904    3.437364  \n",
       "Physical Activities            -0.094727   -9.473200  \n",
       "Life Style (Smoking)           -0.944489    5.534379  \n",
       "Member Diabetic                 1.822553   31.162422  \n",
       "Blood Pressure                 -1.268595    6.413218  \n",
       "Glucose Level (Random mg/dl)   -4.253437   76.827947  \n",
       "BMI                           100.000000    6.242851  \n",
       "Diagnose                        6.242851  100.000000  "
      ]
     },
     "execution_count": 9,
     "metadata": {},
     "output_type": "execute_result"
    }
   ],
   "source": [
    "df_diabetes.corr()*100"
   ]
  },
  {
   "cell_type": "code",
   "execution_count": 10,
   "metadata": {
    "scrolled": true
   },
   "outputs": [
    {
     "data": {
      "text/plain": [
       "<AxesSubplot:>"
      ]
     },
     "execution_count": 10,
     "metadata": {},
     "output_type": "execute_result"
    },
    {
     "data": {
      "image/png": "[encoded data removed]",
      "text/plain": [
       "<Figure size 432x288 with 2 Axes>"
      ]
     },
     "metadata": {
      "needs_background": "light"
     },
     "output_type": "display_data"
    }
   ],
   "source": [
    "sns.heatmap(df_diabetes.corr())"
   ]
  },
  {
   "cell_type": "code",
   "execution_count": 11,
   "metadata": {},
   "outputs": [
    {
     "data": {
      "text/html": [
       "<div>\n",
       "<style scoped>\n",
       "    .dataframe tbody tr th:only-of-type {\n",
       "        vertical-align: middle;\n",
       "    }\n",
       "\n",
       "    .dataframe tbody tr th {\n",
       "        vertical-align: top;\n",
       "    }\n",
       "\n",
       "    .dataframe thead th {\n",
       "        text-align: right;\n",
       "    }\n",
       "</style>\n",
       "<table border=\"1\" class=\"dataframe\">\n",
       "  <thead>\n",
       "    <tr style=\"text-align: right;\">\n",
       "      <th></th>\n",
       "      <th>Age</th>\n",
       "      <th>Gender</th>\n",
       "      <th>Height (centimeters)</th>\n",
       "      <th>Weight (Kg)</th>\n",
       "      <th>Physical Activities</th>\n",
       "      <th>Life Style (Smoking)</th>\n",
       "      <th>Member Diabetic</th>\n",
       "      <th>Blood Pressure</th>\n",
       "      <th>Glucose Level (Random mg/dl)</th>\n",
       "      <th>BMI</th>\n",
       "      <th>Diagnose</th>\n",
       "    </tr>\n",
       "  </thead>\n",
       "  <tbody>\n",
       "    <tr>\n",
       "      <th>0</th>\n",
       "      <td>37</td>\n",
       "      <td>0</td>\n",
       "      <td>157</td>\n",
       "      <td>70</td>\n",
       "      <td>1</td>\n",
       "      <td>0</td>\n",
       "      <td>1</td>\n",
       "      <td>1</td>\n",
       "      <td>190</td>\n",
       "      <td>28.4</td>\n",
       "      <td>0</td>\n",
       "    </tr>\n",
       "    <tr>\n",
       "      <th>1</th>\n",
       "      <td>79</td>\n",
       "      <td>0</td>\n",
       "      <td>155</td>\n",
       "      <td>90</td>\n",
       "      <td>1</td>\n",
       "      <td>0</td>\n",
       "      <td>0</td>\n",
       "      <td>2</td>\n",
       "      <td>100</td>\n",
       "      <td>37.5</td>\n",
       "      <td>-1</td>\n",
       "    </tr>\n",
       "    <tr>\n",
       "      <th>2</th>\n",
       "      <td>64</td>\n",
       "      <td>0</td>\n",
       "      <td>152</td>\n",
       "      <td>85</td>\n",
       "      <td>2</td>\n",
       "      <td>0</td>\n",
       "      <td>0</td>\n",
       "      <td>0</td>\n",
       "      <td>230</td>\n",
       "      <td>36.8</td>\n",
       "      <td>0</td>\n",
       "    </tr>\n",
       "    <tr>\n",
       "      <th>3</th>\n",
       "      <td>37</td>\n",
       "      <td>0</td>\n",
       "      <td>183</td>\n",
       "      <td>60</td>\n",
       "      <td>0</td>\n",
       "      <td>1</td>\n",
       "      <td>0</td>\n",
       "      <td>0</td>\n",
       "      <td>100</td>\n",
       "      <td>17.9</td>\n",
       "      <td>-1</td>\n",
       "    </tr>\n",
       "    <tr>\n",
       "      <th>4</th>\n",
       "      <td>46</td>\n",
       "      <td>0</td>\n",
       "      <td>163</td>\n",
       "      <td>75</td>\n",
       "      <td>0</td>\n",
       "      <td>1</td>\n",
       "      <td>0</td>\n",
       "      <td>0</td>\n",
       "      <td>150</td>\n",
       "      <td>28.2</td>\n",
       "      <td>0</td>\n",
       "    </tr>\n",
       "  </tbody>\n",
       "</table>\n",
       "</div>"
      ],
      "text/plain": [
       "   Age  Gender  Height (centimeters)  Weight (Kg)  Physical Activities  \\\n",
       "0   37       0                   157           70                    1   \n",
       "1   79       0                   155           90                    1   \n",
       "2   64       0                   152           85                    2   \n",
       "3   37       0                   183           60                    0   \n",
       "4   46       0                   163           75                    0   \n",
       "\n",
       "   Life Style (Smoking)  Member Diabetic  Blood Pressure  \\\n",
       "0                     0                1               1   \n",
       "1                     0                0               2   \n",
       "2                     0                0               0   \n",
       "3                     1                0               0   \n",
       "4                     1                0               0   \n",
       "\n",
       "   Glucose Level (Random mg/dl)   BMI  Diagnose  \n",
       "0                           190  28.4         0  \n",
       "1                           100  37.5        -1  \n",
       "2                           230  36.8         0  \n",
       "3                           100  17.9        -1  \n",
       "4                           150  28.2         0  "
      ]
     },
     "execution_count": 11,
     "metadata": {},
     "output_type": "execute_result"
    }
   ],
   "source": [
    "df_diabetes.head()"
   ]
  },
  {
   "cell_type": "code",
   "execution_count": 12,
   "metadata": {},
   "outputs": [],
   "source": [
    "from sklearn.linear_model import LogisticRegression\n",
    "from sklearn.metrics import accuracy_score\n",
    "from sklearn.model_selection import train_test_split"
   ]
  },
  {
   "cell_type": "code",
   "execution_count": 13,
   "metadata": {},
   "outputs": [],
   "source": [
    "cat_fet = ['Physical Activities','Life Style (Smoking)','Member Diabetic','Blood Pressure','Glucose Level (Random mg/dl)','BMI','Diagnose']\n",
    "label = ['Non-Diabetic','Pre-Diabetic','Diabetic']"
   ]
  },
  {
   "cell_type": "code",
   "execution_count": 14,
   "metadata": {},
   "outputs": [],
   "source": [
    "diabetes = df_diabetes[cat_fet].values"
   ]
  },
  {
   "cell_type": "code",
   "execution_count": 15,
   "metadata": {},
   "outputs": [],
   "source": [
    "X = diabetes[:,:-1]\n",
    "y = diabetes[:,-1]"
   ]
  },
  {
   "cell_type": "code",
   "execution_count": 16,
   "metadata": {},
   "outputs": [],
   "source": [
    "# split the dataset into train and test sets\n",
    "X_train, X_test, y_train, y_test = train_test_split(X, y, test_size=0.33, shuffle=True)"
   ]
  },
  {
   "cell_type": "code",
   "execution_count": 22,
   "metadata": {},
   "outputs": [
    {
     "name": "stdout",
     "output_type": "stream",
     "text": [
      "Accuracy Logistic Regression: 76.97\n"
     ]
    },
    {
     "name": "stderr",
     "output_type": "stream",
     "text": [
      "c:\\users\\muhammad usama\\appdata\\local\\programs\\python\\python38-32\\lib\\site-packages\\sklearn\\linear_model\\_logistic.py:762: ConvergenceWarning: lbfgs failed to converge (status=1):\n",
      "STOP: TOTAL NO. of ITERATIONS REACHED LIMIT.\n",
      "\n",
      "Increase the number of iterations (max_iter) or scale the data as shown in:\n",
      "    https://scikit-learn.org/stable/modules/preprocessing.html\n",
      "Please also refer to the documentation for alternative solver options:\n",
      "    https://scikit-learn.org/stable/modules/linear_model.html#logistic-regression\n",
      "  n_iter_i = _check_optimize_result(\n"
     ]
    }
   ],
   "source": [
    "# define the model\n",
    "model = LogisticRegression()\n",
    "# fit on the training set\n",
    "model.fit(X_train, y_train)\n",
    "# predict on test set\n",
    "yhat = model.predict(X_test)\n",
    "# evaluate predictions\n",
    "accuracy = accuracy_score(y_test, yhat)\n",
    "print('Accuracy Logistic Regression: %.2f' % (accuracy*100))"
   ]
  },
  {
   "cell_type": "code",
   "execution_count": 23,
   "metadata": {},
   "outputs": [
    {
     "name": "stdout",
     "output_type": "stream",
     "text": [
      "Logistic Regression [1.]\n"
     ]
    }
   ],
   "source": [
    "# print(\"Predicted \",yhat[:10])\n",
    "# print(\"Actual \",y_test[:10])\n",
    "print(\"Logistic Regression\" , model.predict([[0,0,1,1,150,23]]))"
   ]
  },
  {
   "cell_type": "code",
   "execution_count": 24,
   "metadata": {},
   "outputs": [
    {
     "data": {
      "text/plain": [
       "Index(['Physical Activities', 'Life Style (Smoking)', 'Member Diabetic',\n",
       "       'Blood Pressure', 'Glucose Level (Random mg/dl)', 'BMI', 'Diagnose'],\n",
       "      dtype='object')"
      ]
     },
     "execution_count": 24,
     "metadata": {},
     "output_type": "execute_result"
    }
   ],
   "source": [
    "df_diabetes[cat_fet].columns"
   ]
  },
  {
   "cell_type": "code",
   "execution_count": 25,
   "metadata": {},
   "outputs": [],
   "source": [
    "# PA = low, moderate, high (0,1,2)\n",
    "# smoking = yes , no \n",
    "# member diabetic yes,no\n",
    "# bloodpressure = normal, eleveate, high, very high , extreme high 0,1,2,3,4\n",
    "# Glucose level <140 non 140-199 pre 200+ diabetic\n",
    "# Bmi = 25-29.9 overweight and 30 + obesity\n"
   ]
  },
  {
   "cell_type": "code",
   "execution_count": 26,
   "metadata": {},
   "outputs": [
    {
     "name": "stdout",
     "output_type": "stream",
     "text": [
      "Accuracy Decision Tree: 92.42424242424242\n"
     ]
    }
   ],
   "source": [
    "from sklearn.tree import DecisionTreeClassifier\n",
    "from sklearn import tree\n",
    "clf = DecisionTreeClassifier()\n",
    "\n",
    "# Train Decision Tree Classifer\n",
    "clf = clf.fit(X_train,y_train)\n",
    "\n",
    "#Predict the response for test dataset\n",
    "y_pred = clf.predict(X_test)\n",
    "print(\"Accuracy Decision Tree:\",accuracy_score(y_test, y_pred)*100)\n"
   ]
  },
  {
   "cell_type": "code",
   "execution_count": 27,
   "metadata": {},
   "outputs": [
    {
     "name": "stdout",
     "output_type": "stream",
     "text": [
      "[-1.]\n",
      "Predicted  [-1. -1.  1. -1. -1. -1.  1.  1. -1.  0.]\n",
      "Actual  [-1. -1.  1. -1. -1. -1.  1.  1. -1.  0.]\n"
     ]
    }
   ],
   "source": [
    "print(clf.predict([[0,1,1,0,100,33]]))\n",
    "print(\"Predicted \",y_pred[:10])\n",
    "print(\"Actual \",y_test[:10])"
   ]
  },
  {
   "cell_type": "code",
   "execution_count": 34,
   "metadata": {},
   "outputs": [
    {
     "name": "stdout",
     "output_type": "stream",
     "text": [
      "Accuracy of SVC() is 0.6484848484848484\n",
      "Confusion Matrix of SVC() is \n",
      " [[231  36   0]\n",
      " [ 39  57 113]\n",
      " [ 11  33 140]]\n",
      "Predicted by SVC() [-1.]\n",
      "Accuracy of DecisionTreeClassifier() is 0.9227272727272727\n",
      "Confusion Matrix of DecisionTreeClassifier() is \n",
      " [[262   5   0]\n",
      " [  5 186  18]\n",
      " [  0  23 161]]\n",
      "Predicted by DecisionTreeClassifier() [-1.]\n",
      "Accuracy of RandomForestClassifier() is 0.9272727272727272\n",
      "Confusion Matrix of RandomForestClassifier() is \n",
      " [[264   3   0]\n",
      " [  9 183  17]\n",
      " [  0  19 165]]\n",
      "Predicted by RandomForestClassifier() [-1.]\n"
     ]
    }
   ],
   "source": [
    "from sklearn.ensemble import RandomForestClassifier\n",
    "from sklearn import svm, tree\n",
    "from sklearn.metrics import accuracy_score, confusion_matrix\n",
    "\n",
    "classifiers = []\n",
    "model2 = svm.SVC()\n",
    "classifiers.append(model2)\n",
    "model3 = tree.DecisionTreeClassifier()\n",
    "classifiers.append(model3)\n",
    "model4 = RandomForestClassifier()\n",
    "classifiers.append(model4)\n",
    "\n",
    "for clf in classifiers:\n",
    "    clf.fit(X_train, y_train)\n",
    "    y_pred= clf.predict(X_test)\n",
    "    acc = accuracy_score(y_test, y_pred)\n",
    "    print(\"Accuracy of %s is %s\"%(clf, acc))\n",
    "    cm = confusion_matrix(y_test, y_pred)\n",
    "    print(\"Confusion Matrix of %s is \\n %s\"%(clf, cm))\n",
    "    \n",
    "    print(\"Predicted by %s %s\"%(clf,clf.predict([[0,1,1,0,100,33]])))"
   ]
  },
  {
   "cell_type": "code",
   "execution_count": 36,
   "metadata": {},
   "outputs": [
    {
     "data": {
      "text/plain": [
       "{0: 0, 1: 1, 2: 2}"
      ]
     },
     "execution_count": 36,
     "metadata": {},
     "output_type": "execute_result"
    }
   ],
   "source": [
    "from sklearn.preprocessing import LabelEncoder\n",
    "gle = LabelEncoder()\n",
    "genre_labels = gle.fit_transform(df_diabetes['Physical Activities'])\n",
    "genre_mappings = {index: label for index, label in \n",
    "                  enumerate(gle.classes_)}\n",
    "genre_mappings"
   ]
  },
  {
   "cell_type": "code",
   "execution_count": null,
   "metadata": {},
   "outputs": [],
   "source": []
  },
  {
   "cell_type": "code",
   "execution_count": null,
   "metadata": {},
   "outputs": [],
   "source": []
  }
 ],
 "metadata": {
  "kernelspec": {
   "display_name": "Python 3",
   "language": "python",
   "name": "python3"
  },
  "language_info": {
   "codemirror_mode": {
    "name": "ipython",
    "version": 3
   },
   "file_extension": ".py",
   "mimetype": "text/x-python",
   "name": "python",
   "nbconvert_exporter": "python",
   "pygments_lexer": "ipython3",
   "version": "3.8.5"
  }
 },
 "nbformat": 4,
 "nbformat_minor": 4
}
